{
 "cells": [
  {
   "cell_type": "markdown",
   "metadata": {},
   "source": [
    "# Spot.jl \n",
    "\n",
    "Spot.jl is a wrapper for the [Spot](https://spot.lrde.epita.fr/index.html) library. \n",
    "\n",
    "It is using [PyCall.jl](https://github.com/JuliaPy/PyCall.jl) under the hood and any Spot function from the python bindings can be used in Julia via the PyCall interface. A few functions have been reimplemented to manipulate automatas as pure Julia objects (e.g. `DeterministicRabinAutomata`). \n",
    "\n",
    "For more extensive tutorials see the original [Spot documentation](https://spot.lrde.epita.fr/tut.html).\n"
   ]
  },
  {
   "cell_type": "code",
   "execution_count": 1,
   "metadata": {},
   "outputs": [
    {
     "name": "stderr",
     "output_type": "stream",
     "text": [
      "┌ Info: Precompiling Spot [f11abc24-ce50-11e8-2475-af6658d13f2b]\n",
      "└ @ Base loading.jl:1186\n"
     ]
    }
   ],
   "source": [
    "using Spot"
   ]
  },
  {
   "cell_type": "markdown",
   "metadata": {},
   "source": [
    "## LTL Formulas"
   ]
  },
  {
   "cell_type": "code",
   "execution_count": 2,
   "metadata": {},
   "outputs": [
    {
     "data": {
      "text/plain": [
       "\"GF(a & F(b & Fc))\""
      ]
     },
     "execution_count": 2,
     "metadata": {},
     "output_type": "execute_result"
    }
   ],
   "source": [
    "safety = ltl\"!crash U goal\" \n",
    "surveillance = ltl\"G (F (a & (F (b & Fc))))\" "
   ]
  },
  {
   "cell_type": "markdown",
   "metadata": {},
   "source": [
    "## Conversion to Automata\n",
    "\n",
    "use the `LTLtranslator` constructor to specify the translation options, then use the `translate` to convert the LTL formula into an automata.\n",
    "\n",
    "`LTLTranslator`:\n",
    "- `tgba::Bool = true`  outputs Transition-based Generalized Büchi Automata\n",
    "- `buchi::Bool = false` outputs state-based Büchi automata\n",
    "- `monitor::Bool = false` outputs monitors\n",
    "- `deterministic::Bool = true` combined with generic, will do whatever it takes to produce a deterministic automaton, and may use any acceptance condition\n",
    "- `generic::Bool = true` \n",
    "- `parity::Bool = true` combined with deterministic, will produce a deterministic automaton with parity acceptance\n",
    "- `state_based_acceptance::Bool` = true define the acceptance using states"
   ]
  },
  {
   "cell_type": "code",
   "execution_count": 3,
   "metadata": {},
   "outputs": [
    {
     "data": {
      "text/plain": [
       "SpotAutomata(shared_ptr<class spot::twa_graph> @138538944\n",
       ")"
      ]
     },
     "execution_count": 3,
     "metadata": {},
     "output_type": "execute_result"
    }
   ],
   "source": [
    "translator = LTLTranslator()\n",
    "safety_aut = translate(translator, safety)"
   ]
  },
  {
   "cell_type": "code",
   "execution_count": 4,
   "metadata": {},
   "outputs": [
    {
     "data": {
      "text/plain": [
       "SpotAutomata(shared_ptr<class spot::twa_graph> @38304176\n",
       ")"
      ]
     },
     "execution_count": 4,
     "metadata": {},
     "output_type": "execute_result"
    }
   ],
   "source": [
    "translator = LTLTranslator(buchi=true, deterministic=true, state_based_acceptance=true)\n",
    "surveillance_aut = translate(translator, surveillance)"
   ]
  },
  {
   "cell_type": "code",
   "execution_count": 5,
   "metadata": {},
   "outputs": [
    {
     "ename": "UndefVarError",
     "evalue": "UndefVarError: TikzPicture not defined",
     "output_type": "error",
     "traceback": [
      "UndefVarError: TikzPicture not defined",
      "",
      "Stacktrace:",
      " [1] plot_automata(::SpotAutomata) at /mnt/c/Users/Maxime/wsl/.julia/dev/Spot/src/automata.jl:208",
      " [2] top-level scope at In[5]:1"
     ]
    }
   ],
   "source": [
    "plot_automata(surveillance_aut)"
   ]
  },
  {
   "cell_type": "markdown",
   "metadata": {},
   "source": [
    "## Deterministic Rabin Automata\n",
    "\n",
    "Spot.jl provides a Deterministic Rabin Automata structure which is pure Julia. It can be constructed directly from a LTL formula."
   ]
  },
  {
   "cell_type": "code",
   "execution_count": 5,
   "metadata": {},
   "outputs": [
    {
     "data": {
      "text/plain": [
       "4"
      ]
     },
     "execution_count": 5,
     "metadata": {},
     "output_type": "execute_result"
    }
   ],
   "source": [
    "# dra = DeterministicRabinAutomata(surveillance)\n",
    "# nextstate(dra, 4, (:a,:b,:c))"
   ]
  }
 ],
 "metadata": {
  "@webio": {
   "lastCommId": null,
   "lastKernelId": null
  },
  "kernelspec": {
   "display_name": "Julia 1.1.0",
   "language": "julia",
   "name": "julia-1.1"
  },
  "language_info": {
   "file_extension": ".jl",
   "mimetype": "application/julia",
   "name": "julia",
   "version": "1.1.0"
  }
 },
 "nbformat": 4,
 "nbformat_minor": 2
}
