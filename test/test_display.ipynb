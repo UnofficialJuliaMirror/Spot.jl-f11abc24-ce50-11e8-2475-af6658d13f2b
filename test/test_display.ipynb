{
 "cells": [
  {
   "cell_type": "code",
   "execution_count": 1,
   "metadata": {},
   "outputs": [],
   "source": [
    "]activate ../"
   ]
  },
  {
   "cell_type": "code",
   "execution_count": 2,
   "metadata": {},
   "outputs": [
    {
     "name": "stderr",
     "output_type": "stream",
     "text": [
      "┌ Info: Recompiling stale cache file /mnt/c/Users/Maxime/wsl/.julia/compiled/v1.0/Spot/dk13t.ji for Spot [f11abc24-ce50-11e8-2475-af6658d13f2b]\n",
      "└ @ Base loading.jl:1184\n"
     ]
    }
   ],
   "source": [
    "using Revise\n",
    "using Spot"
   ]
  },
  {
   "cell_type": "code",
   "execution_count": 27,
   "metadata": {},
   "outputs": [
    {
     "name": "stderr",
     "output_type": "stream",
     "text": [
      "┌ Warning: error processing module Spot signature expressions Expr[:(Tuple{(Typeof)(get_rabin_acceptance), SpotAutomata})] from :(function get_rabin_acceptance(aut::SpotAutomata)\n",
      "│       acc = (aut.a[:acc])()\n",
      "│       (israbin, acc_sets) = (acc[:is_rabin_like])()\n",
      "│       if israbin\n",
      "│           nothing\n",
      "│       else\n",
      "│           (Base.throw)((Base.AssertionError)(\"SpotError: automata is not Rabin like\"))\n",
      "│       end\n",
      "│       fin_inf_sets = Vector{Tuple{Set{Int64}, Set{Int64}}}(undef, length(acc_sets))\n",
      "│       for (i, s) = enumerate(acc_sets)\n",
      "│           infset = Set(collect(((s[:inf])[:sets])()))\n",
      "│           finset = Set(collect(((s[:fin])[:sets])()))\n",
      "│           fin_inf_sets[i] = (finset, infset)\n",
      "│       end\n",
      "│       return fin_inf_sets\n",
      "│   end)\n",
      "└ @ Revise /mnt/c/Users/Maxime/wsl/.julia/packages/Revise/TmjcT/src/exprutils.jl:94\n"
     ]
    },
    {
     "ename": "UndefVarError",
     "evalue": "UndefVarError: get_rabin_acceptance not defined",
     "output_type": "error",
     "traceback": [
      "UndefVarError: get_rabin_acceptance not defined",
      ""
     ]
    }
   ],
   "source": [
    "ltl = \"(a U b) & GFc & GFd\"\n",
    "\n",
    "translator = LTLTranslator(deterministic=true, buchi=true, state_based_acceptance=true)\n",
    "\n",
    "a = translate(translator, ltl)"
   ]
  },
  {
   "cell_type": "code",
   "execution_count": 6,
   "metadata": {},
   "outputs": [
    {
     "data": {
      "text/plain": [
       "2-element Array{Any,1}:\n",
       " true                                         \n",
       "     (PyObject spot.rs_pair(fin=[], inf=[0]),)"
      ]
     },
     "execution_count": 6,
     "metadata": {},
     "output_type": "execute_result"
    }
   ],
   "source": [
    "acc = a[:acc]()\n",
    "(b, v) = acc[:is_rabin_like]()"
   ]
  },
  {
   "cell_type": "code",
   "execution_count": 18,
   "metadata": {},
   "outputs": [
    {
     "data": {
      "text/plain": [
       "PyObject spot.mark_t([0])"
      ]
     },
     "execution_count": 18,
     "metadata": {},
     "output_type": "execute_result"
    }
   ],
   "source": [
    "v[1][:inf]"
   ]
  },
  {
   "cell_type": "code",
   "execution_count": 14,
   "metadata": {},
   "outputs": [
    {
     "name": "stdout",
     "output_type": "stream",
     "text": [
      "0\n",
      "2\n",
      "3\n"
     ]
    }
   ],
   "source": [
    "fin = spot.mark_t((0, 2, 3))\n",
    "for s in fin[:sets]()\n",
    "    println(s)\n",
    "end"
   ]
  },
  {
   "cell_type": "code",
   "execution_count": 24,
   "metadata": {},
   "outputs": [
    {
     "data": {
      "text/plain": [
       "get_rabin_acceptance (generic function with 1 method)"
      ]
     },
     "execution_count": 24,
     "metadata": {},
     "output_type": "execute_result"
    }
   ],
   "source": [
    "function get_rabin_acceptance(aut::SpotAutomata)\n",
    "    acc = aut.a[:acc]()\n",
    "    israbin, acc_sets = acc[:is_rabin_like]()\n",
    "    @assert israbin \"SpotError: automata is not Rabin like\"\n",
    "    fin_inf_sets = Vector{Tuple{Set{Int64}, Set{Int64}}}(undef, length(acc_sets))\n",
    "    for (i,s) in enumerate(acc_sets)\n",
    "        infset = Set(collect(s[:inf][:sets]()))\n",
    "        finset = Set(collect(s[:fin][:sets]()))\n",
    "        fin_inf_sets[i] = (finset, infset)\n",
    "    end\n",
    "    return fin_inf_sets\n",
    "end"
   ]
  },
  {
   "cell_type": "code",
   "execution_count": 26,
   "metadata": {},
   "outputs": [
    {
     "data": {
      "text/plain": [
       "1-element Array{Tuple{Set{Int64},Set{Int64}},1}:\n",
       " (Set([]), Set([0]))"
      ]
     },
     "execution_count": 26,
     "metadata": {},
     "output_type": "execute_result"
    }
   ],
   "source": [
    "s = get_rabin_acceptance(SpotAutomata(a))"
   ]
  },
  {
   "cell_type": "code",
   "execution_count": 4,
   "metadata": {
    "scrolled": true
   },
   "outputs": [
    {
     "name": "stdout",
     "output_type": "stream",
     "text": [
      "a num edges: 21\n"
     ]
    },
    {
     "data": {
      "text/plain": [
       "76"
      ]
     },
     "execution_count": 4,
     "metadata": {},
     "output_type": "execute_result"
    }
   ],
   "source": [
    "println(\"a num edges: \", a[:num_edges]())\n",
    "a2 = spot.split_edges(a)\n",
    "a2[:num_edges]()"
   ]
  },
  {
   "cell_type": "code",
   "execution_count": 5,
   "metadata": {},
   "outputs": [
    {
     "name": "stdout",
     "output_type": "stream",
     "text": [
      "12\n"
     ]
    }
   ],
   "source": [
    "aut = SpotAutomata(a2)\n",
    "aps = atomic_propositions(aut)\n",
    "A = zeros(2^length(aps))\n",
    "edges, labels = get_edges_labels(aut)\n",
    "i=0\n",
    "for e in edges\n",
    "    global i \n",
    "    if e[1] == 1\n",
    "        i += 1\n",
    "    end\n",
    "end\n",
    "println(i)"
   ]
  },
  {
   "cell_type": "code",
   "execution_count": 23,
   "metadata": {},
   "outputs": [
    {
     "data": {
      "text/latex": [
       "$\\lnot c$"
      ],
      "text/plain": [
       "PyObject spot.formula(\"!c\")"
      ]
     },
     "execution_count": 23,
     "metadata": {},
     "output_type": "execute_result"
    }
   ],
   "source": [
    "l = labels[10]\n",
    "l.f[3]"
   ]
  },
  {
   "cell_type": "code",
   "execution_count": 22,
   "metadata": {
    "scrolled": false
   },
   "outputs": [],
   "source": [
    "a2;"
   ]
  },
  {
   "cell_type": "code",
   "execution_count": 34,
   "metadata": {},
   "outputs": [
    {
     "data": {
      "image/svg+xml": [
       "<svg height=\"407pt\" viewBox=\"0.00 0.00 652.21 406.62\" width=\"652pt\" xmlns=\"http://www.w3.org/2000/svg\" xmlns:xlink=\"http://www.w3.org/1999/xlink\">\n",
       "<g class=\"graph\" id=\"graph0\" transform=\"scale(1 1) rotate(0) translate(4 402.625)\">\n",
       "<polygon fill=\"white\" points=\"-4,4 -4,-402.625 648.208,-402.625 648.208,4 -4,4\" stroke=\"none\"/>\n",
       "<text font-family=\"Times,serif\" font-size=\"14.00\" text-anchor=\"middle\" x=\"322.104\" y=\"-383.425\">Fin(0) &amp; (Inf(1)&amp;Inf(2))</text>\n",
       "<text font-family=\"Times,serif\" font-size=\"14.00\" text-anchor=\"middle\" x=\"322.104\" y=\"-368.425\">[Streett-like 3]</text>\n",
       "<!-- I -->\n",
       "<!-- 0 -->\n",
       "<g class=\"node\" id=\"node2\"><title>0</title>\n",
       "<ellipse cx=\"56\" cy=\"-277.625\" fill=\"none\" rx=\"18\" ry=\"18\" stroke=\"black\"/>\n",
       "<text font-family=\"Times,serif\" font-size=\"14.00\" text-anchor=\"middle\" x=\"56\" y=\"-273.925\">0</text>\n",
       "</g>\n",
       "<!-- I&#45;&gt;0 -->\n",
       "<g class=\"edge\" id=\"edge1\"><title>I-&gt;0</title>\n",
       "<path d=\"M1.15491,-277.625C2.67247,-277.625 15.0966,-277.625 27.6277,-277.625\" fill=\"none\" stroke=\"black\"/>\n",
       "<polygon fill=\"black\" points=\"27.9419,-281.125 37.9419,-277.625 27.9418,-274.125 27.9419,-281.125\" stroke=\"black\"/>\n",
       "</g>\n",
       "<!-- 0&#45;&gt;0 -->\n",
       "<g class=\"edge\" id=\"edge2\"><title>0-&gt;0</title>\n",
       "<path d=\"M49.6208,-294.662C48.3189,-304.483 50.4453,-313.625 56,-313.625 59.4717,-313.625 61.6042,-310.054 62.3975,-304.978\" fill=\"none\" stroke=\"black\"/>\n",
       "<polygon fill=\"black\" points=\"65.8971,-304.656 62.3792,-294.662 58.8971,-304.668 65.8971,-304.656\" stroke=\"black\"/>\n",
       "<text font-family=\"Times,serif\" font-size=\"14.00\" text-anchor=\"middle\" x=\"56\" y=\"-317.425\">a &amp; !b</text>\n",
       "</g>\n",
       "<!-- 1 -->\n",
       "<g class=\"node\" id=\"node3\"><title>1</title>\n",
       "<ellipse cx=\"201.234\" cy=\"-146.625\" fill=\"none\" rx=\"33.4697\" ry=\"33.4697\" stroke=\"black\"/>\n",
       "<text font-family=\"Times,serif\" font-size=\"14.00\" text-anchor=\"middle\" x=\"201.234\" y=\"-150.425\">1</text>\n",
       "<text font-family=\"Times,serif\" font-size=\"14.00\" text-anchor=\"middle\" x=\"201.234\" y=\"-135.425\">{1,2}</text>\n",
       "</g>\n",
       "<!-- 0&#45;&gt;1 -->\n",
       "<g class=\"edge\" id=\"edge3\"><title>0-&gt;1</title>\n",
       "<path d=\"M65.6139,-262.362C72.0687,-251.679 81.5572,-237.44 92,-226.625 113.493,-204.365 141.71,-183.728 163.945,-168.992\" fill=\"none\" stroke=\"black\"/>\n",
       "<polygon fill=\"black\" points=\"165.988,-171.838 172.454,-163.445 162.165,-165.974 165.988,-171.838\" stroke=\"black\"/>\n",
       "<text font-family=\"Times,serif\" font-size=\"14.00\" text-anchor=\"middle\" x=\"121\" y=\"-230.425\">b &amp; c &amp; d</text>\n",
       "</g>\n",
       "<!-- 2 -->\n",
       "<g class=\"node\" id=\"node4\"><title>2</title>\n",
       "<ellipse cx=\"368.468\" cy=\"-211.625\" fill=\"none\" rx=\"26.7407\" ry=\"26.7407\" stroke=\"black\"/>\n",
       "<text font-family=\"Times,serif\" font-size=\"14.00\" text-anchor=\"middle\" x=\"368.468\" y=\"-215.425\">2</text>\n",
       "<text font-family=\"Times,serif\" font-size=\"14.00\" text-anchor=\"middle\" x=\"368.468\" y=\"-200.425\">{1}</text>\n",
       "</g>\n",
       "<!-- 0&#45;&gt;2 -->\n",
       "<g class=\"edge\" id=\"edge4\"><title>0-&gt;2</title>\n",
       "<path d=\"M74.1557,-275.756C116.449,-270.892 228.856,-256.391 319.468,-230.625 324.177,-229.286 329.062,-227.653 333.833,-225.913\" fill=\"none\" stroke=\"black\"/>\n",
       "<polygon fill=\"black\" points=\"335.293,-229.101 343.375,-222.25 332.785,-222.566 335.293,-229.101\" stroke=\"black\"/>\n",
       "<text font-family=\"Times,serif\" font-size=\"14.00\" text-anchor=\"middle\" x=\"201.234\" y=\"-266.425\">b &amp; c &amp; !d</text>\n",
       "</g>\n",
       "<!-- 3 -->\n",
       "<g class=\"node\" id=\"node5\"><title>3</title>\n",
       "<ellipse cx=\"617.338\" cy=\"-176.625\" fill=\"none\" rx=\"26.7407\" ry=\"26.7407\" stroke=\"black\"/>\n",
       "<text font-family=\"Times,serif\" font-size=\"14.00\" text-anchor=\"middle\" x=\"617.338\" y=\"-180.425\">3</text>\n",
       "<text font-family=\"Times,serif\" font-size=\"14.00\" text-anchor=\"middle\" x=\"617.338\" y=\"-165.425\">{2}</text>\n",
       "</g>\n",
       "<!-- 0&#45;&gt;3 -->\n",
       "<g class=\"edge\" id=\"edge5\"><title>0-&gt;3</title>\n",
       "<path d=\"M69.415,-290.266C75.7441,-296.164 83.8194,-302.907 92,-307.625 136.164,-333.096 149.251,-345.625 200.234,-345.625 200.234,-345.625 200.234,-345.625 495.968,-345.625 560.84,-345.625 594.01,-261.987 607.976,-212.389\" fill=\"none\" stroke=\"black\"/>\n",
       "<polygon fill=\"black\" points=\"611.375,-213.227 610.593,-202.661 604.615,-211.408 611.375,-213.227\" stroke=\"black\"/>\n",
       "<text font-family=\"Times,serif\" font-size=\"14.00\" text-anchor=\"middle\" x=\"368.468\" y=\"-349.425\">b &amp; !c &amp; d</text>\n",
       "</g>\n",
       "<!-- 4 -->\n",
       "<g class=\"node\" id=\"node6\"><title>4</title>\n",
       "<ellipse cx=\"494.968\" cy=\"-138.625\" fill=\"none\" rx=\"18\" ry=\"18\" stroke=\"black\"/>\n",
       "<text font-family=\"Times,serif\" font-size=\"14.00\" text-anchor=\"middle\" x=\"494.968\" y=\"-134.925\">4</text>\n",
       "</g>\n",
       "<!-- 0&#45;&gt;4 -->\n",
       "<g class=\"edge\" id=\"edge6\"><title>0-&gt;4</title>\n",
       "<path d=\"M73.6415,-282.345C124.921,-295.963 284.02,-331.229 399.468,-280.625 447.234,-259.687 474.003,-200.353 486.059,-165.361\" fill=\"none\" stroke=\"black\"/>\n",
       "<polygon fill=\"black\" points=\"489.413,-166.363 489.205,-155.77 482.762,-164.181 489.413,-166.363\" stroke=\"black\"/>\n",
       "<text font-family=\"Times,serif\" font-size=\"14.00\" text-anchor=\"middle\" x=\"285.968\" y=\"-311.425\">b &amp; !c &amp; !d</text>\n",
       "</g>\n",
       "<!-- 1&#45;&gt;1 -->\n",
       "<g class=\"edge\" id=\"edge7\"><title>1-&gt;1</title>\n",
       "<path d=\"M186.308,-176.365C185.556,-188.077 190.531,-197.859 201.234,-197.859 208.592,-197.859 213.244,-193.235 215.187,-186.54\" fill=\"none\" stroke=\"black\"/>\n",
       "<polygon fill=\"black\" points=\"218.692,-186.653 216.16,-176.365 211.724,-185.987 218.692,-186.653\" stroke=\"black\"/>\n",
       "<text font-family=\"Times,serif\" font-size=\"14.00\" text-anchor=\"middle\" x=\"201.234\" y=\"-201.659\">c &amp; d</text>\n",
       "</g>\n",
       "<!-- 1&#45;&gt;2 -->\n",
       "<g class=\"edge\" id=\"edge8\"><title>1-&gt;2</title>\n",
       "<path d=\"M233.974,-153.183C258.08,-158.788 291.703,-167.963 319.468,-180.625 325.51,-183.38 331.674,-186.814 337.483,-190.383\" fill=\"none\" stroke=\"black\"/>\n",
       "<polygon fill=\"black\" points=\"335.948,-193.557 346.251,-196.025 339.735,-187.67 335.948,-193.557\" stroke=\"black\"/>\n",
       "<text font-family=\"Times,serif\" font-size=\"14.00\" text-anchor=\"middle\" x=\"285.968\" y=\"-184.425\">c &amp; !d</text>\n",
       "</g>\n",
       "<!-- 1&#45;&gt;3 -->\n",
       "<g class=\"edge\" id=\"edge9\"><title>1-&gt;3</title>\n",
       "<path d=\"M208.127,-114.038C214.526,-88.5441 227.398,-54.3744 252.468,-35.6247 326.242,19.551 366.8,-3.46965 458.468,-12.6247 509.9,-17.7612 534.094,-0.997457 572.468,-35.6247 601.624,-61.9337 611.595,-107.243 614.902,-139.393\" fill=\"none\" stroke=\"black\"/>\n",
       "<polygon fill=\"black\" points=\"611.448,-140.08 615.786,-149.746 618.422,-139.484 611.448,-140.08\" stroke=\"black\"/>\n",
       "<text font-family=\"Times,serif\" font-size=\"14.00\" text-anchor=\"middle\" x=\"437.968\" y=\"-16.4247\">!c &amp; d</text>\n",
       "</g>\n",
       "<!-- 1&#45;&gt;4 -->\n",
       "<g class=\"edge\" id=\"edge10\"><title>1-&gt;4</title>\n",
       "<path d=\"M233.576,-137.85C239.832,-136.11 246.357,-134.303 252.468,-132.625 290.207,-122.26 298.673,-114.781 337.468,-109.625 364.783,-105.994 371.975,-107.769 399.468,-109.625 425.87,-111.406 433.472,-108.938 458.468,-117.625 462.653,-119.079 466.889,-121.057 470.907,-123.221\" fill=\"none\" stroke=\"black\"/>\n",
       "<polygon fill=\"black\" points=\"469.368,-126.377 479.759,-128.448 472.927,-120.349 469.368,-126.377\" stroke=\"black\"/>\n",
       "<text font-family=\"Times,serif\" font-size=\"14.00\" text-anchor=\"middle\" x=\"368.468\" y=\"-113.425\">!c &amp; !d</text>\n",
       "</g>\n",
       "<!-- 2&#45;&gt;1 -->\n",
       "<g class=\"edge\" id=\"edge11\"><title>2-&gt;1</title>\n",
       "<path d=\"M341.461,-212.542C317.233,-212.376 280.706,-209.461 252.468,-195.625 244.369,-191.656 236.753,-185.885 230.018,-179.686\" fill=\"none\" stroke=\"black\"/>\n",
       "<polygon fill=\"black\" points=\"232.113,-176.836 222.541,-172.294 227.192,-181.814 232.113,-176.836\" stroke=\"black\"/>\n",
       "<text font-family=\"Times,serif\" font-size=\"14.00\" text-anchor=\"middle\" x=\"285.968\" y=\"-215.425\">c &amp; d</text>\n",
       "</g>\n",
       "<!-- 2&#45;&gt;2 -->\n",
       "<g class=\"edge\" id=\"edge12\"><title>2-&gt;2</title>\n",
       "<path d=\"M355.97,-235.629C354.607,-246.765 358.773,-256.495 368.468,-256.495 374.982,-256.495 379,-252.103 380.522,-245.843\" fill=\"none\" stroke=\"black\"/>\n",
       "<polygon fill=\"black\" points=\"384.028,-245.772 380.966,-235.629 377.035,-245.468 384.028,-245.772\" stroke=\"black\"/>\n",
       "<text font-family=\"Times,serif\" font-size=\"14.00\" text-anchor=\"middle\" x=\"368.468\" y=\"-260.295\">c &amp; !d</text>\n",
       "</g>\n",
       "<!-- 2&#45;&gt;3 -->\n",
       "<g class=\"edge\" id=\"edge13\"><title>2-&gt;3</title>\n",
       "<path d=\"M395.051,-216.056C402.276,-217.116 410.161,-218.095 417.468,-218.625 435.643,-219.943 440.4,-220.987 458.468,-218.625 501.987,-212.935 550.581,-198.776 582.211,-188.467\" fill=\"none\" stroke=\"black\"/>\n",
       "<polygon fill=\"black\" points=\"583.465,-191.739 591.856,-185.271 581.263,-185.094 583.465,-191.739\" stroke=\"black\"/>\n",
       "<text font-family=\"Times,serif\" font-size=\"14.00\" text-anchor=\"middle\" x=\"494.968\" y=\"-219.425\">!c &amp; d</text>\n",
       "</g>\n",
       "<!-- 2&#45;&gt;4 -->\n",
       "<g class=\"edge\" id=\"edge14\"><title>2-&gt;4</title>\n",
       "<path d=\"M394.91,-206.583C413.675,-201.997 439.185,-193.877 458.468,-180.625 465.771,-175.606 472.445,-168.705 477.986,-161.948\" fill=\"none\" stroke=\"black\"/>\n",
       "<polygon fill=\"black\" points=\"481.063,-163.685 484.36,-153.616 475.504,-159.431 481.063,-163.685\" stroke=\"black\"/>\n",
       "<text font-family=\"Times,serif\" font-size=\"14.00\" text-anchor=\"middle\" x=\"437.968\" y=\"-203.425\">!c &amp; !d</text>\n",
       "</g>\n",
       "<!-- 3&#45;&gt;1 -->\n",
       "<g class=\"edge\" id=\"edge15\"><title>3-&gt;1</title>\n",
       "<path d=\"M600.193,-155.659C592.576,-146.925 582.878,-137.288 572.468,-130.625 527.366,-101.757 511.292,-100.41 458.468,-91.6247 367.846,-76.5524 337.946,-74.964 252.468,-108.625 246.179,-111.101 239.998,-114.597 234.24,-118.476\" fill=\"none\" stroke=\"black\"/>\n",
       "<polygon fill=\"black\" points=\"232.176,-115.65 226.143,-124.359 236.29,-121.313 232.176,-115.65\" stroke=\"black\"/>\n",
       "<text font-family=\"Times,serif\" font-size=\"14.00\" text-anchor=\"middle\" x=\"437.968\" y=\"-95.4247\">c &amp; d</text>\n",
       "</g>\n",
       "<!-- 3&#45;&gt;2 -->\n",
       "<g class=\"edge\" id=\"edge16\"><title>3-&gt;2</title>\n",
       "<path d=\"M596.726,-194.358C589.452,-200.358 580.911,-206.762 572.468,-211.625 548.08,-225.671 541.128,-229.424 513.468,-234.625 471.534,-242.509 459.077,-243.076 417.468,-233.625 412.239,-232.437 406.893,-230.643 401.756,-228.582\" fill=\"none\" stroke=\"black\"/>\n",
       "<polygon fill=\"black\" points=\"402.786,-225.211 392.224,-224.379 399.962,-231.616 402.786,-225.211\" stroke=\"black\"/>\n",
       "<text font-family=\"Times,serif\" font-size=\"14.00\" text-anchor=\"middle\" x=\"494.968\" y=\"-244.425\">c &amp; !d</text>\n",
       "</g>\n",
       "<!-- 3&#45;&gt;3 -->\n",
       "<g class=\"edge\" id=\"edge17\"><title>3-&gt;3</title>\n",
       "<path d=\"M605.526,-201.086C604.401,-212.03 608.338,-221.495 617.338,-221.495 623.385,-221.495 627.147,-217.222 628.623,-211.099\" fill=\"none\" stroke=\"black\"/>\n",
       "<polygon fill=\"black\" points=\"632.119,-211.257 629.151,-201.086 625.129,-210.888 632.119,-211.257\" stroke=\"black\"/>\n",
       "<text font-family=\"Times,serif\" font-size=\"14.00\" text-anchor=\"middle\" x=\"617.338\" y=\"-225.295\">!c &amp; d</text>\n",
       "</g>\n",
       "<!-- 3&#45;&gt;4 -->\n",
       "<g class=\"edge\" id=\"edge18\"><title>3-&gt;4</title>\n",
       "<path d=\"M598.575,-156.811C591.238,-150.03 582.177,-143.244 572.468,-139.625 556.845,-133.8 538.149,-133.447 523.151,-134.601\" fill=\"none\" stroke=\"black\"/>\n",
       "<polygon fill=\"black\" points=\"522.568,-131.142 512.98,-135.65 523.286,-138.105 522.568,-131.142\" stroke=\"black\"/>\n",
       "<text font-family=\"Times,serif\" font-size=\"14.00\" text-anchor=\"middle\" x=\"551.968\" y=\"-143.425\">!c &amp; !d</text>\n",
       "</g>\n",
       "<!-- 4&#45;&gt;1 -->\n",
       "<g class=\"edge\" id=\"edge19\"><title>4-&gt;1</title>\n",
       "<path d=\"M476.88,-139.093C432.088,-140.322 310.238,-143.663 244.928,-145.454\" fill=\"none\" stroke=\"black\"/>\n",
       "<polygon fill=\"black\" points=\"244.47,-141.965 234.569,-145.738 244.662,-148.962 244.47,-141.965\" stroke=\"black\"/>\n",
       "<text font-family=\"Times,serif\" font-size=\"14.00\" text-anchor=\"middle\" x=\"368.468\" y=\"-147.425\">c &amp; d</text>\n",
       "</g>\n",
       "<!-- 4&#45;&gt;2 -->\n",
       "<g class=\"edge\" id=\"edge20\"><title>4-&gt;2</title>\n",
       "<path d=\"M477.137,-141.129C460.92,-144.11 436.161,-150.191 417.468,-161.625 408.229,-167.275 399.554,-175.133 392.188,-182.947\" fill=\"none\" stroke=\"black\"/>\n",
       "<polygon fill=\"black\" points=\"389.344,-180.876 385.285,-190.663 394.561,-185.543 389.344,-180.876\" stroke=\"black\"/>\n",
       "<text font-family=\"Times,serif\" font-size=\"14.00\" text-anchor=\"middle\" x=\"437.968\" y=\"-165.425\">c &amp; !d</text>\n",
       "</g>\n",
       "<!-- 4&#45;&gt;3 -->\n",
       "<g class=\"edge\" id=\"edge21\"><title>4-&gt;3</title>\n",
       "<path d=\"M511.638,-146.379C517.734,-149.211 524.836,-152.29 531.468,-154.625 547.333,-160.211 565.314,-165.073 580.629,-168.796\" fill=\"none\" stroke=\"black\"/>\n",
       "<polygon fill=\"black\" points=\"580.211,-172.293 590.747,-171.186 581.82,-165.481 580.211,-172.293\" stroke=\"black\"/>\n",
       "<text font-family=\"Times,serif\" font-size=\"14.00\" text-anchor=\"middle\" x=\"551.968\" y=\"-171.425\">!c &amp; d</text>\n",
       "</g>\n",
       "<!-- 4&#45;&gt;4 -->\n",
       "<g class=\"edge\" id=\"edge22\"><title>4-&gt;4</title>\n",
       "<path d=\"M485.393,-154.166C482.698,-164.533 485.89,-174.625 494.968,-174.625 500.926,-174.625 504.348,-170.279 505.235,-164.361\" fill=\"none\" stroke=\"black\"/>\n",
       "<polygon fill=\"black\" points=\"508.712,-163.906 504.543,-154.166 501.729,-164.38 508.712,-163.906\" stroke=\"black\"/>\n",
       "<text font-family=\"Times,serif\" font-size=\"14.00\" text-anchor=\"middle\" x=\"494.968\" y=\"-178.425\">!c &amp; !d</text>\n",
       "</g>\n",
       "</g>\n",
       "</svg>"
      ],
      "text/plain": [
       "PyObject <IPython.core.display.SVG object>"
      ]
     },
     "execution_count": 34,
     "metadata": {},
     "output_type": "execute_result"
    }
   ],
   "source": [
    "dra = spot.to_generalized_rabin(a)\n",
    "dra[:show]()"
   ]
  },
  {
   "cell_type": "code",
   "execution_count": 36,
   "metadata": {},
   "outputs": [
    {
     "name": "stdout",
     "output_type": "stream",
     "text": [
      "PyObject spot.acc_cond(3, \"Fin(0) & (Inf(1)&Inf(2))\")\n",
      "false()"
     ]
    }
   ],
   "source": [
    "dra = spot.to_generalized_rabin(a)\n",
    "acc = dra[:get_acceptance]()\n",
    "acc = dra[:acc]()\n",
    "b, v = acc[:is_rabin_like]()\n",
    "println(acc)\n",
    "print(b, v)"
   ]
  },
  {
   "cell_type": "code",
   "execution_count": 30,
   "metadata": {},
   "outputs": [
    {
     "data": {
      "text/plain": [
       "2-element Array{Any,1}:\n",
       " true                                                                                  \n",
       "     (PyObject spot.rs_pair(fin=[0], inf=[1]), PyObject spot.rs_pair(fin=[2], inf=[3]))"
      ]
     },
     "execution_count": 30,
     "metadata": {},
     "output_type": "execute_result"
    }
   ],
   "source": [
    "dpa = spot.translate(\"GF a -> GFb\", \"parity min odd\", \"det\")\n",
    "dra = spot.to_generalized_rabin(dpa)\n",
    "acc = dra[:acc]()\n",
    "b, v = acc[:is_rabin_like]()"
   ]
  },
  {
   "cell_type": "code",
   "execution_count": 14,
   "metadata": {},
   "outputs": [
    {
     "name": "stdout",
     "output_type": "stream",
     "text": [
      " Deterministic: true\n",
      " Rabin like Any[false, ()]\n",
      " Rabin like Any[false, ()]\n"
     ]
    }
   ],
   "source": [
    "println(\" Deterministic: \",a[:is_deterministic]())\n",
    "acc = a[:acc]()\n",
    "println(\" Rabin like \", acc[:is_rabin_like]())\n",
    "dra = spot.to_generalized_rabin(a)\n",
    "dra[:show]()\n",
    "dra_acc = dra[:acc]()\n",
    "println(\" Rabin like \", dra_acc[:is_rabin_like]())"
   ]
  },
  {
   "cell_type": "code",
   "execution_count": 17,
   "metadata": {},
   "outputs": [
    {
     "data": {
      "text/plain": [
       "2-element Array{Any,1}:\n",
       " false  \n",
       "      ()"
      ]
     },
     "execution_count": 17,
     "metadata": {},
     "output_type": "execute_result"
    }
   ],
   "source": [
    "dra_acc[:is_rabin_like]()"
   ]
  },
  {
   "cell_type": "code",
   "execution_count": null,
   "metadata": {},
   "outputs": [],
   "source": [
    "split_a = spot."
   ]
  }
 ],
 "metadata": {
  "kernelspec": {
   "display_name": "Julia 1.0.0",
   "language": "julia",
   "name": "julia-1.0"
  },
  "language_info": {
   "file_extension": ".jl",
   "mimetype": "application/julia",
   "name": "julia",
   "version": "1.0.0"
  }
 },
 "nbformat": 4,
 "nbformat_minor": 2
}
